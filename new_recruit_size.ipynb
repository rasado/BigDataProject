{
 "cells": [
  {
   "cell_type": "code",
   "execution_count": 1,
   "metadata": {
    "collapsed": true
   },
   "outputs": [],
   "source": [
    "import pandas as pd"
   ]
  },
  {
   "cell_type": "code",
   "execution_count": 3,
   "outputs": [],
   "source": [
    "df_female = pd.read_csv('female.csv', usecols=['Heightin', 'Weightlbs', 'chestcircumference', 'waistcircumference'])"
   ],
   "metadata": {
    "collapsed": false,
    "pycharm": {
     "name": "#%%\n"
    }
   }
  },
  {
   "cell_type": "code",
   "execution_count": 4,
   "outputs": [
    {
     "data": {
      "text/plain": "   chestcircumference  waistcircumference  Heightin  Weightlbs\n0                 922                 850        61        142\n1                 839                 708        64        120\n2                 874                 727        68        147\n3                1008                 923        66        175\n4                1089                1163        63        195",
      "text/html": "<div>\n<style scoped>\n    .dataframe tbody tr th:only-of-type {\n        vertical-align: middle;\n    }\n\n    .dataframe tbody tr th {\n        vertical-align: top;\n    }\n\n    .dataframe thead th {\n        text-align: right;\n    }\n</style>\n<table border=\"1\" class=\"dataframe\">\n  <thead>\n    <tr style=\"text-align: right;\">\n      <th></th>\n      <th>chestcircumference</th>\n      <th>waistcircumference</th>\n      <th>Heightin</th>\n      <th>Weightlbs</th>\n    </tr>\n  </thead>\n  <tbody>\n    <tr>\n      <th>0</th>\n      <td>922</td>\n      <td>850</td>\n      <td>61</td>\n      <td>142</td>\n    </tr>\n    <tr>\n      <th>1</th>\n      <td>839</td>\n      <td>708</td>\n      <td>64</td>\n      <td>120</td>\n    </tr>\n    <tr>\n      <th>2</th>\n      <td>874</td>\n      <td>727</td>\n      <td>68</td>\n      <td>147</td>\n    </tr>\n    <tr>\n      <th>3</th>\n      <td>1008</td>\n      <td>923</td>\n      <td>66</td>\n      <td>175</td>\n    </tr>\n    <tr>\n      <th>4</th>\n      <td>1089</td>\n      <td>1163</td>\n      <td>63</td>\n      <td>195</td>\n    </tr>\n  </tbody>\n</table>\n</div>"
     },
     "execution_count": 4,
     "metadata": {},
     "output_type": "execute_result"
    }
   ],
   "source": [
    "df_female.head()"
   ],
   "metadata": {
    "collapsed": false,
    "pycharm": {
     "name": "#%%\n"
    }
   }
  },
  {
   "cell_type": "code",
   "execution_count": 5,
   "outputs": [],
   "source": [
    "df_female['Heightin'] = df_female['Heightin'].multiply(2.54)\n",
    "df_female['Weightlbs'] = df_female['Weightlbs'].multiply(0.45359237)\n",
    "df_female['chestcircumference'] = df_female['chestcircumference'].multiply(0.1)\n",
    "df_female['waistcircumference'] = df_female['waistcircumference'].multiply(0.1)"
   ],
   "metadata": {
    "collapsed": false,
    "pycharm": {
     "name": "#%%\n"
    }
   }
  },
  {
   "cell_type": "code",
   "execution_count": 10,
   "outputs": [],
   "source": [
    "df_female.rename(columns={\"chestcircumference\": \"chest\", \"waistcircumference\": \"waist\", \"Heightin\": \"height\", \"Weightlbs\": \"weight\"}, inplace=True)"
   ],
   "metadata": {
    "collapsed": false,
    "pycharm": {
     "name": "#%%\n"
    }
   }
  },
  {
   "cell_type": "code",
   "execution_count": 11,
   "outputs": [],
   "source": [
    "size = []\n",
    "color = []\n",
    "\n",
    "for chest, waist in zip(df_female['chest'], df_female['waist']):\n",
    "    if chest <= 89:\n",
    "        if waist >= 68:\n",
    "            size.append('S')\n",
    "            color.append('red')\n",
    "        else:\n",
    "            size.append('XS')\n",
    "            color.append('blue')\n",
    "    elif chest <= 99:\n",
    "        if waist >= 78:\n",
    "            size.append('L')\n",
    "            color.append('yellow')\n",
    "        else:\n",
    "            size.append('M')\n",
    "            color.append('green')\n",
    "    elif chest <= 104:\n",
    "        if waist >= 83:\n",
    "            size.append('XL')\n",
    "            color.append('purple')\n",
    "        else:\n",
    "            size.append('L')\n",
    "            color.append('yellow')\n",
    "\n",
    "df_female['size'] = pd.Series(size)\n",
    "df_female['color'] = pd.Series(color)"
   ],
   "metadata": {
    "collapsed": false,
    "pycharm": {
     "name": "#%%\n"
    }
   }
  },
  {
   "cell_type": "code",
   "execution_count": 12,
   "outputs": [
    {
     "data": {
      "text/plain": "   chest  waist  height     weight size   color\n0   92.2   85.0  154.94  64.410117    L  yellow\n1   83.9   70.8  162.56  54.431084    S     red\n2   87.4   72.7  172.72  66.678078    S     red\n3  100.8   92.3  167.64  79.378665   XL  purple\n4  108.9  116.3  160.02  88.450512   XL  purple",
      "text/html": "<div>\n<style scoped>\n    .dataframe tbody tr th:only-of-type {\n        vertical-align: middle;\n    }\n\n    .dataframe tbody tr th {\n        vertical-align: top;\n    }\n\n    .dataframe thead th {\n        text-align: right;\n    }\n</style>\n<table border=\"1\" class=\"dataframe\">\n  <thead>\n    <tr style=\"text-align: right;\">\n      <th></th>\n      <th>chest</th>\n      <th>waist</th>\n      <th>height</th>\n      <th>weight</th>\n      <th>size</th>\n      <th>color</th>\n    </tr>\n  </thead>\n  <tbody>\n    <tr>\n      <th>0</th>\n      <td>92.2</td>\n      <td>85.0</td>\n      <td>154.94</td>\n      <td>64.410117</td>\n      <td>L</td>\n      <td>yellow</td>\n    </tr>\n    <tr>\n      <th>1</th>\n      <td>83.9</td>\n      <td>70.8</td>\n      <td>162.56</td>\n      <td>54.431084</td>\n      <td>S</td>\n      <td>red</td>\n    </tr>\n    <tr>\n      <th>2</th>\n      <td>87.4</td>\n      <td>72.7</td>\n      <td>172.72</td>\n      <td>66.678078</td>\n      <td>S</td>\n      <td>red</td>\n    </tr>\n    <tr>\n      <th>3</th>\n      <td>100.8</td>\n      <td>92.3</td>\n      <td>167.64</td>\n      <td>79.378665</td>\n      <td>XL</td>\n      <td>purple</td>\n    </tr>\n    <tr>\n      <th>4</th>\n      <td>108.9</td>\n      <td>116.3</td>\n      <td>160.02</td>\n      <td>88.450512</td>\n      <td>XL</td>\n      <td>purple</td>\n    </tr>\n  </tbody>\n</table>\n</div>"
     },
     "execution_count": 12,
     "metadata": {},
     "output_type": "execute_result"
    }
   ],
   "source": [
    "df_female.head()"
   ],
   "metadata": {
    "collapsed": false,
    "pycharm": {
     "name": "#%%\n"
    }
   }
  },
  {
   "cell_type": "code",
   "execution_count": 16,
   "outputs": [],
   "source": [
    "df_female.to_csv('female_cleaned.csv')"
   ],
   "metadata": {
    "collapsed": false,
    "pycharm": {
     "name": "#%%\n"
    }
   }
  },
  {
   "cell_type": "code",
   "execution_count": 26,
   "outputs": [],
   "source": [
    "df_male.rename(columns={\"chestcircumference\": \"chest\", \"waistcircumference\": \"waist\", \"Heightin\": \"height\", \"Weightlbs\": \"weight\"}, inplace=True)"
   ],
   "metadata": {
    "collapsed": false,
    "pycharm": {
     "name": "#%%\n"
    }
   }
  },
  {
   "cell_type": "code",
   "execution_count": 21,
   "outputs": [],
   "source": [
    "df_male['Heightin'] = df_male['Heightin'].multiply(2.54)\n",
    "df_male['Weightlbs'] = df_male['Weightlbs'].multiply(0.45359237)\n",
    "df_male['chestcircumference'] = df_male['chestcircumference'].multiply(0.1)\n",
    "df_male['waistcircumference'] = df_male['waistcircumference'].multiply(0.1)"
   ],
   "metadata": {
    "collapsed": false,
    "pycharm": {
     "name": "#%%\n"
    }
   }
  },
  {
   "cell_type": "code",
   "execution_count": 22,
   "outputs": [
    {
     "data": {
      "text/plain": "   chestcircumference  waistcircumference  Heightin  Weightlbs\n0               107.4                93.3    180.34  81.646627\n1               102.1                87.0    172.72  72.574779\n2               112.0                96.4    172.72  92.986436\n3               111.4                85.7    167.64  79.378665\n4               104.8                86.8    195.58  96.615175",
      "text/html": "<div>\n<style scoped>\n    .dataframe tbody tr th:only-of-type {\n        vertical-align: middle;\n    }\n\n    .dataframe tbody tr th {\n        vertical-align: top;\n    }\n\n    .dataframe thead th {\n        text-align: right;\n    }\n</style>\n<table border=\"1\" class=\"dataframe\">\n  <thead>\n    <tr style=\"text-align: right;\">\n      <th></th>\n      <th>chestcircumference</th>\n      <th>waistcircumference</th>\n      <th>Heightin</th>\n      <th>Weightlbs</th>\n    </tr>\n  </thead>\n  <tbody>\n    <tr>\n      <th>0</th>\n      <td>107.4</td>\n      <td>93.3</td>\n      <td>180.34</td>\n      <td>81.646627</td>\n    </tr>\n    <tr>\n      <th>1</th>\n      <td>102.1</td>\n      <td>87.0</td>\n      <td>172.72</td>\n      <td>72.574779</td>\n    </tr>\n    <tr>\n      <th>2</th>\n      <td>112.0</td>\n      <td>96.4</td>\n      <td>172.72</td>\n      <td>92.986436</td>\n    </tr>\n    <tr>\n      <th>3</th>\n      <td>111.4</td>\n      <td>85.7</td>\n      <td>167.64</td>\n      <td>79.378665</td>\n    </tr>\n    <tr>\n      <th>4</th>\n      <td>104.8</td>\n      <td>86.8</td>\n      <td>195.58</td>\n      <td>96.615175</td>\n    </tr>\n  </tbody>\n</table>\n</div>"
     },
     "execution_count": 22,
     "metadata": {},
     "output_type": "execute_result"
    }
   ],
   "source": [
    "df_male.head()"
   ],
   "metadata": {
    "collapsed": false,
    "pycharm": {
     "name": "#%%\n"
    }
   }
  },
  {
   "cell_type": "code",
   "execution_count": 28,
   "outputs": [],
   "source": [
    "size = []\n",
    "color = []\n",
    "\n",
    "for chest, waist in zip(df_male['chest'], df_male['waist']):\n",
    "    if chest <= 96:\n",
    "        if waist >= 79:\n",
    "            size.append('S')\n",
    "            color.append('red')\n",
    "        else:\n",
    "            size.append('XS')\n",
    "            color.append('blue')\n",
    "    elif chest <= 106:\n",
    "        if waist >= 89:\n",
    "            size.append('L')\n",
    "            color.append('yellow')\n",
    "        else:\n",
    "            size.append('M')\n",
    "            color.append('green')\n",
    "    elif chest <= 111:\n",
    "        if waist >= 94:\n",
    "            size.append('XL')\n",
    "            color.append('purple')\n",
    "        else:\n",
    "            size.append('L')\n",
    "            color.append('yellow')\n",
    "\n",
    "df_male['size'] = pd.Series(size)\n",
    "df_male['color'] = pd.Series(color)"
   ],
   "metadata": {
    "collapsed": false,
    "pycharm": {
     "name": "#%%\n"
    }
   }
  },
  {
   "cell_type": "code",
   "execution_count": 33,
   "outputs": [],
   "source": [
    "df_male.drop(columns=['chest', 'waist'], inplace=True)"
   ],
   "metadata": {
    "collapsed": false,
    "pycharm": {
     "name": "#%%\n"
    }
   }
  },
  {
   "cell_type": "code",
   "execution_count": 35,
   "outputs": [],
   "source": [
    "df_male.to_csv('male_cleaned.csv')"
   ],
   "metadata": {
    "collapsed": false,
    "pycharm": {
     "name": "#%%\n"
    }
   }
  },
  {
   "cell_type": "code",
   "execution_count": 36,
   "outputs": [],
   "source": [
    "df_female = pd.read_csv('female_cleaned.csv')"
   ],
   "metadata": {
    "collapsed": false,
    "pycharm": {
     "name": "#%%\n"
    }
   }
  },
  {
   "cell_type": "code",
   "execution_count": 37,
   "outputs": [
    {
     "data": {
      "text/plain": "   Unnamed: 0  chest  waist  height     weight size   color\n0           0   92.2   85.0  154.94  64.410117    L  yellow\n1           1   83.9   70.8  162.56  54.431084    S     red\n2           2   87.4   72.7  172.72  66.678078    S     red\n3           3  100.8   92.3  167.64  79.378665   XL  purple\n4           4  108.9  116.3  160.02  88.450512   XL  purple",
      "text/html": "<div>\n<style scoped>\n    .dataframe tbody tr th:only-of-type {\n        vertical-align: middle;\n    }\n\n    .dataframe tbody tr th {\n        vertical-align: top;\n    }\n\n    .dataframe thead th {\n        text-align: right;\n    }\n</style>\n<table border=\"1\" class=\"dataframe\">\n  <thead>\n    <tr style=\"text-align: right;\">\n      <th></th>\n      <th>Unnamed: 0</th>\n      <th>chest</th>\n      <th>waist</th>\n      <th>height</th>\n      <th>weight</th>\n      <th>size</th>\n      <th>color</th>\n    </tr>\n  </thead>\n  <tbody>\n    <tr>\n      <th>0</th>\n      <td>0</td>\n      <td>92.2</td>\n      <td>85.0</td>\n      <td>154.94</td>\n      <td>64.410117</td>\n      <td>L</td>\n      <td>yellow</td>\n    </tr>\n    <tr>\n      <th>1</th>\n      <td>1</td>\n      <td>83.9</td>\n      <td>70.8</td>\n      <td>162.56</td>\n      <td>54.431084</td>\n      <td>S</td>\n      <td>red</td>\n    </tr>\n    <tr>\n      <th>2</th>\n      <td>2</td>\n      <td>87.4</td>\n      <td>72.7</td>\n      <td>172.72</td>\n      <td>66.678078</td>\n      <td>S</td>\n      <td>red</td>\n    </tr>\n    <tr>\n      <th>3</th>\n      <td>3</td>\n      <td>100.8</td>\n      <td>92.3</td>\n      <td>167.64</td>\n      <td>79.378665</td>\n      <td>XL</td>\n      <td>purple</td>\n    </tr>\n    <tr>\n      <th>4</th>\n      <td>4</td>\n      <td>108.9</td>\n      <td>116.3</td>\n      <td>160.02</td>\n      <td>88.450512</td>\n      <td>XL</td>\n      <td>purple</td>\n    </tr>\n  </tbody>\n</table>\n</div>"
     },
     "execution_count": 37,
     "metadata": {},
     "output_type": "execute_result"
    }
   ],
   "source": [
    "df_female.head()"
   ],
   "metadata": {
    "collapsed": false,
    "pycharm": {
     "name": "#%%\n"
    }
   }
  },
  {
   "cell_type": "code",
   "execution_count": 39,
   "outputs": [],
   "source": [
    "df_female.drop(columns=['Unnamed: 0', 'chest', 'waist'], inplace=True)"
   ],
   "metadata": {
    "collapsed": false,
    "pycharm": {
     "name": "#%%\n"
    }
   }
  },
  {
   "cell_type": "code",
   "execution_count": 40,
   "outputs": [
    {
     "data": {
      "text/plain": "   height     weight size   color\n0  154.94  64.410117    L  yellow\n1  162.56  54.431084    S     red\n2  172.72  66.678078    S     red\n3  167.64  79.378665   XL  purple\n4  160.02  88.450512   XL  purple",
      "text/html": "<div>\n<style scoped>\n    .dataframe tbody tr th:only-of-type {\n        vertical-align: middle;\n    }\n\n    .dataframe tbody tr th {\n        vertical-align: top;\n    }\n\n    .dataframe thead th {\n        text-align: right;\n    }\n</style>\n<table border=\"1\" class=\"dataframe\">\n  <thead>\n    <tr style=\"text-align: right;\">\n      <th></th>\n      <th>height</th>\n      <th>weight</th>\n      <th>size</th>\n      <th>color</th>\n    </tr>\n  </thead>\n  <tbody>\n    <tr>\n      <th>0</th>\n      <td>154.94</td>\n      <td>64.410117</td>\n      <td>L</td>\n      <td>yellow</td>\n    </tr>\n    <tr>\n      <th>1</th>\n      <td>162.56</td>\n      <td>54.431084</td>\n      <td>S</td>\n      <td>red</td>\n    </tr>\n    <tr>\n      <th>2</th>\n      <td>172.72</td>\n      <td>66.678078</td>\n      <td>S</td>\n      <td>red</td>\n    </tr>\n    <tr>\n      <th>3</th>\n      <td>167.64</td>\n      <td>79.378665</td>\n      <td>XL</td>\n      <td>purple</td>\n    </tr>\n    <tr>\n      <th>4</th>\n      <td>160.02</td>\n      <td>88.450512</td>\n      <td>XL</td>\n      <td>purple</td>\n    </tr>\n  </tbody>\n</table>\n</div>"
     },
     "execution_count": 40,
     "metadata": {},
     "output_type": "execute_result"
    }
   ],
   "source": [
    "df_female.head()"
   ],
   "metadata": {
    "collapsed": false,
    "pycharm": {
     "name": "#%%\n"
    }
   }
  },
  {
   "cell_type": "code",
   "execution_count": 41,
   "outputs": [],
   "source": [
    "df_female.to_csv('female_cleaned.csv')"
   ],
   "metadata": {
    "collapsed": false,
    "pycharm": {
     "name": "#%%\n"
    }
   }
  },
  {
   "cell_type": "code",
   "execution_count": 78,
   "outputs": [],
   "source": [
    "from math import sqrt\n",
    "\n",
    "def euclidean_distance(row1, row2):\n",
    "    distance = 0.0\n",
    "    for i in range(len(row1)-1):\n",
    "        distance += (row1[i] - row2[i])**2\n",
    "    return sqrt(distance)\n",
    "\n",
    "\n",
    "def get_neighbors(train, test_row, num_neighbors):\n",
    "    entries = train.to_numpy()\n",
    "    dis_values = list()\n",
    "    for train_row in entries:\n",
    "        dis = euclidean_distance(test_row, (train_row[0], train_row[1]))\n",
    "        dis_values.append((train_row, dis))\n",
    "    dis_values.sort(key=lambda tup: tup[1])\n",
    "    list_neighbors = list()\n",
    "    for i in range(num_neighbors):\n",
    "        list_neighbors.append(dis_values[i][0])\n",
    "\n",
    "    output_values = [row[-2] for row in list_neighbors]\n",
    "    prediction = max(set(output_values), key=output_values.count)\n",
    "    return prediction"
   ],
   "metadata": {
    "collapsed": false,
    "pycharm": {
     "name": "#%%\n"
    }
   }
  },
  {
   "cell_type": "code",
   "execution_count": 80,
   "outputs": [
    {
     "name": "stdout",
     "output_type": "stream",
     "text": [
      "Your recommended size is: XS\n"
     ]
    },
    {
     "data": {
      "text/plain": "<Figure size 432x288 with 1 Axes>",
      "image/png": "[encoded data removed]"
     },
     "metadata": {
      "needs_background": "light"
     },
     "output_type": "display_data"
    }
   ],
   "source": [
    "import matplotlib.pyplot as plt\n",
    "import seaborn as sns\n",
    "\n",
    "gender = input(\"Male or female ?\")\n",
    "height = input(\"Enter your height in cm: \")\n",
    "waist = input(\"Enter your weight in kg: \")\n",
    "\n",
    "dataframe = pd.read_csv('female_cleaned.csv') if gender.lower() == \"female\" else pd.read_csv('male_cleaned.csv')\n",
    "\n",
    "recommended_size = get_neighbors(dataframe, [float(height), float(waist)], 3)\n",
    "print(f\"Your recommended size is: {recommended_size}\")\n",
    "\n",
    "sns.scatterplot(data=dataframe, x='height', y='weight', hue='size')\n",
    "plt.show()"
   ],
   "metadata": {
    "collapsed": false,
    "pycharm": {
     "name": "#%%\n"
    }
   }
  }
 ],
 "metadata": {
  "kernelspec": {
   "display_name": "Python 3",
   "language": "python",
   "name": "python3"
  },
  "language_info": {
   "codemirror_mode": {
    "name": "ipython",
    "version": 2
   },
   "file_extension": ".py",
   "mimetype": "text/x-python",
   "name": "python",
   "nbconvert_exporter": "python",
   "pygments_lexer": "ipython2",
   "version": "2.7.6"
  }
 },
 "nbformat": 4,
 "nbformat_minor": 0
}